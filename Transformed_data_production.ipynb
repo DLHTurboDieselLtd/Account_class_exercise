{
  "nbformat": 4,
  "nbformat_minor": 0,
  "metadata": {
    "colab": {
      "private_outputs": true,
      "provenance": [],
      "gpuType": "V28",
      "mount_file_id": "1jLo4xiHybSLaSnOSJ5qMhRf38FwbZy59",
      "authorship_tag": "ABX9TyNYB4MDKRYsrDdETQ2Ogvty",
      "include_colab_link": true
    },
    "kernelspec": {
      "name": "python3",
      "display_name": "Python 3"
    },
    "accelerator": "TPU"
  },
  "cells": [
    {
      "cell_type": "markdown",
      "metadata": {
        "id": "view-in-github",
        "colab_type": "text"
      },
      "source": [
        "<a href=\"https://colab.research.google.com/github/DLHTurboDieselLtd/Account_class_exercise/blob/main/Transformed_data_production.ipynb\" target=\"_parent\"><img src=\"https://colab.research.google.com/assets/colab-badge.svg\" alt=\"Open In Colab\"/></a>"
      ]
    },
    {
      "cell_type": "code",
      "metadata": {
        "id": "KtDuC-X52mXE"
      },
      "source": [
        "from google.colab import drive\n",
        "drive.mount('/content/drive')"
      ],
      "execution_count": null,
      "outputs": []
    },
    {
      "cell_type": "code",
      "metadata": {
        "id": "eqsr_zWP2-pi"
      },
      "source": [
        "import re\n",
        "import pandas as pd\n",
        "import numpy as np\n",
        "import glob\n",
        "from google.colab import files"
      ],
      "execution_count": null,
      "outputs": []
    },
    {
      "cell_type": "code",
      "metadata": {
        "id": "DQWEOum73Id2"
      },
      "source": [
        "def create_df(filename = '/content/drive/MyDrive/combined/*.csv', save = False):\n",
        "  # read in csv file\n",
        "  df = pd.concat(map(pd.read_csv, glob.glob(filename)))\n",
        "\n",
        "  # truncate machine desc\n",
        "  df['Machine'] = [re.search(r'(\\w{3})\\d*-UP', machine_name) for machine_name in df['Machine']]\n",
        "\n",
        "  df['Engine'] = [re.search(r\"POWERED BY\\s*([\\w\\-\\.]+)\\s*(?:Engine|ENGINE)\", machine_name, re.IGNORECASE) for machine_name in df['Machine']]\n",
        "\n",
        "  df['Machine'] = f\"{df['Machine']}_{df['Engine']}\"\n",
        "\n",
        "  # process description col\n",
        "  df['Description'] = df['Description'].apply(str)\n",
        "  df['Description'] = [s.replace(\" \", '-') for s in df['Description']]\n",
        "  df['Description'] = [re.sub(r'^-|-$', '', s) for s in df['Description']]\n",
        "\n",
        "  # keep only certain cols\n",
        "  df = df.iloc[:, [1,3,4]].drop_duplicates()\n",
        "\n",
        "  # copy df\n",
        "  df = df.copy()\n",
        "\n",
        "  # create item col\n",
        "  df['Item'] = df['Part numbers'] + ' ' +\tdf['Description']\n",
        "\n",
        "  # save to csv\n",
        "  if save == True:\n",
        "    df.to_csv('create_df.csv', index=False)\n",
        "    files.download('create_df.csv')\n",
        "  else:\n",
        "    pass\n",
        "\n",
        "  return df"
      ],
      "execution_count": null,
      "outputs": []
    },
    {
      "cell_type": "code",
      "metadata": {
        "id": "As98avI_BZTO"
      },
      "source": [
        "df_combined = create_df()\n",
        "df_combined"
      ],
      "execution_count": null,
      "outputs": []
    },
    {
      "cell_type": "code",
      "metadata": {
        "id": "O86WAXQE8Mgz"
      },
      "source": [
        "def get_combined_groups(df, group='Item', save = False):\n",
        "  # groupby 'Item'\n",
        "  df_combined_gbo = df.groupby([group])\n",
        "\n",
        "  # convert gbo to list\n",
        "  l = list(df_combined_gbo)\n",
        "\n",
        "  # convert gbo to array\n",
        "  l_array = np.array(l, dtype=object)\n",
        "\n",
        "  # create containers for data\n",
        "  machine_container = []\n",
        "  item_container = []\n",
        "\n",
        "  # interate through the array\n",
        "  for i in range(l_array.shape[0]):\n",
        "    machine_container.append(list(set(l_array[i][1]['Machine'].values)))\n",
        "\n",
        "  for i in range(l_array.shape[0]):\n",
        "    item_container.append(l_array[i][0])\n",
        "\n",
        "  # create DataFrame\n",
        "  machine_df = pd.DataFrame({'Machine':list(map(sorted, machine_container))})\n",
        "  item_df = pd.DataFrame({'Item':item_container})\n",
        "\n",
        "  # combine series\n",
        "  df_combined_final = pd.concat([item_df, machine_df], axis=1)\n",
        "\n",
        "  # split the Item col\n",
        "  df_combined_final[['Part Number', 'Description']] = df_combined_final['Item'].str.split(' ', 1, expand = True)\n",
        "\n",
        "  # subset the final df\n",
        "  df_combined_final = df_combined_final.iloc[:, [2,3,1]]\n",
        "\n",
        "  df_combined_final['Machine'] = pd.DataFrame({'Machine':list(map('\\r\\n'.join, df_combined_final['Machine']))})\n",
        "  df_combined_final['Description'] = [x.replace(',', '') for x in df_combined_final['Description']]\n",
        "\n",
        "  # save to csv\n",
        "  if save == True:\n",
        "    df_combined_final.to_csv('df_combined_final.csv', index=False)\n",
        "    files.download('df_combined_final.csv')\n",
        "  else:\n",
        "    pass\n",
        "\n",
        "  return df_combined_final"
      ],
      "execution_count": null,
      "outputs": []
    },
    {
      "cell_type": "code",
      "metadata": {
        "id": "0UaAxG-2A3oP"
      },
      "source": [
        "# np.warnings.filterwarnings('ignore', category=np.VisibleDeprecationWarning)\n",
        "\n",
        "df = get_combined_groups(df_combined, save = True)\n",
        "df"
      ],
      "execution_count": null,
      "outputs": []
    },
    {
      "cell_type": "code",
      "metadata": {
        "id": "AdF54a9rUg8T"
      },
      "source": [
        "# df = pd.read_csv(filepath_or_buffer='/content/drive/MyDrive/combined/CAT_Grouped.csv')\n",
        "# df"
      ],
      "execution_count": null,
      "outputs": []
    },
    {
      "cell_type": "code",
      "metadata": {
        "id": "fMFS632ZUhdV"
      },
      "source": [
        "df = df.iloc[0:100]\n",
        "df"
      ],
      "execution_count": null,
      "outputs": []
    },
    {
      "cell_type": "code",
      "metadata": {
        "id": "9owRhhJyYGTM"
      },
      "source": [
        "df.nunique()"
      ],
      "execution_count": null,
      "outputs": []
    },
    {
      "cell_type": "code",
      "metadata": {
        "id": "Ja2XxJRsUhtk"
      },
      "source": [
        "df.to_csv('CAT_Grouped_23.02.25.csv', index=False)\n",
        "files.download('CAT_Grouped_test.23.02.25.csv')"
      ],
      "execution_count": null,
      "outputs": []
    },
    {
      "cell_type": "code",
      "metadata": {
        "id": "Ii9lSIqGKBSX"
      },
      "source": [
        "1589554 / 5"
      ],
      "execution_count": null,
      "outputs": []
    },
    {
      "cell_type": "code",
      "metadata": {
        "id": "nzNdYTMbXY3u"
      },
      "source": [
        "!pip install xlsxwriter"
      ],
      "execution_count": null,
      "outputs": []
    },
    {
      "cell_type": "code",
      "metadata": {
        "id": "4gowH_-ANyDN"
      },
      "source": [
        "df1 = df.iloc[0:317910]\n",
        "df2 = df.iloc[317910:(317910+317910)]\n",
        "df3 = df.iloc[(317910+317910):(317910+317910+317910)]\n",
        "df4 = df.iloc[(317910+317910+317910):(317910+317910+317910+317910)]\n",
        "df5 = df.iloc[(317910+317910+317910+317910):(317910+317910+317910+317910+317910)]\n",
        "\n",
        "writer = pd.ExcelWriter('CAT_multiple.xlsx', engine='xlsxwriter')\n",
        "\n",
        "df1.to_excel(writer, sheet_name='Sheet1', index=False)\n",
        "df2.to_excel(writer, sheet_name='Sheet2', index=False)\n",
        "df3.to_excel(writer, sheet_name='Sheet3', index=False)\n",
        "df4.to_excel(writer, sheet_name='Sheet4', index=False)\n",
        "df5.to_excel(writer, sheet_name='Sheet5', index=False)\n",
        "\n",
        "writer.save()\n",
        "files.download('CAT_multiple.xlsx')"
      ],
      "execution_count": null,
      "outputs": []
    },
    {
      "cell_type": "code",
      "metadata": {
        "id": "Kynlhpa1NyK7"
      },
      "source": [],
      "execution_count": null,
      "outputs": []
    },
    {
      "cell_type": "code",
      "metadata": {
        "id": "Y1uDDdCyNyUW"
      },
      "source": [],
      "execution_count": null,
      "outputs": []
    }
  ]
}